{
 "cells": [
  {
   "cell_type": "code",
   "execution_count": 1,
   "metadata": {},
   "outputs": [],
   "source": [
    "import numpy as np\n",
    "import matplotlib.pyplot as plt\n",
    "import pandas as pd\n",
    "get_ipython().run_line_magic('matplotlib', 'inline')"
   ]
  },
  {
   "cell_type": "code",
   "execution_count": 2,
   "metadata": {},
   "outputs": [],
   "source": [
    "#LOADING THE DATA From data.csv\n",
    "data = pd.read_csv('Breast_Cancer.csv')"
   ]
  },
  {
   "cell_type": "code",
   "execution_count": 3,
   "metadata": {},
   "outputs": [
    {
     "name": "stdout",
     "output_type": "stream",
     "text": [
      "The history saving thread hit an unexpected error (OperationalError('disk I/O error')).History will not be written to the database.\n"
     ]
    },
    {
     "data": {
      "text/plain": [
       "array([1, 0], dtype=int64)"
      ]
     },
     "execution_count": 3,
     "metadata": {},
     "output_type": "execute_result"
    }
   ],
   "source": [
    "# Converting diagnosis to integer - 1 for malignant, 0 - for benign\n",
    "from sklearn import preprocessing\n",
    "label_encoder = preprocessing.LabelEncoder()\n",
    "data['diagnosis']=label_encoder.fit_transform(data['diagnosis'])\n",
    "data['diagnosis'].unique()"
   ]
  },
  {
   "cell_type": "code",
   "execution_count": 4,
   "metadata": {},
   "outputs": [],
   "source": [
    "#Complete data set:\n",
    "X = data[data.columns[2:32]]\n",
    "Y = data['diagnosis']\n",
    "Y = Y.values.reshape(Y.shape[0],1)"
   ]
  },
  {
   "cell_type": "code",
   "execution_count": 5,
   "metadata": {},
   "outputs": [],
   "source": [
    "#train set assignment (80%):\n",
    "train_X = X.loc[0:454,X.columns[0:]]\n",
    "train_Y = Y[0:455]\n",
    "\n",
    "#test set assignment (20%):\n",
    "test_X = X.loc[0:143,X.columns[0:]]\n",
    "test_Y = Y[0:144]"
   ]
  },
  {
   "cell_type": "code",
   "execution_count": 6,
   "metadata": {},
   "outputs": [],
   "source": [
    "#training set:\n",
    "\n",
    "mean = train_X.mean()\n",
    "std_error = train_X.std()\n",
    "train_X = (train_X - mean)/std_error\n",
    "\n",
    "#test set:\n",
    "mean = test_X.mean()\n",
    "std_error = test_X.std()\n",
    "test_X = (test_X - mean)/std_error"
   ]
  },
  {
   "cell_type": "code",
   "execution_count": 7,
   "metadata": {},
   "outputs": [],
   "source": [
    "# Hypothesis i.e. y = a = sigmoid(z) where z = w^TX + b\n",
    "def sigmoid(z):\n",
    "    return 1/(1+np.exp(-z))\n"
   ]
  },
  {
   "cell_type": "code",
   "execution_count": 8,
   "metadata": {},
   "outputs": [],
   "source": [
    "def random_init(dim):\n",
    "    w = np.zeros((dim,1))\n",
    "    b = 0\n",
    "    return w,b"
   ]
  },
  {
   "cell_type": "code",
   "execution_count": 9,
   "metadata": {},
   "outputs": [],
   "source": [
    "#hypothesis in logistic regression is y = a = sigmoid(z) = sigmoid(w^TX + b)\n",
    "def propo(w,b,X,Y):\n",
    "    \n",
    "    m = X.shape[0]\n",
    "    \n",
    "    #forward propogation\n",
    "    z = np.dot(X,w) + b\n",
    "    a = sigmoid(z)\n",
    "    cost = -np.sum(Y*np.log(a) - (1-Y)*np.log(1-a))/m\n",
    "    \n",
    "    \n",
    "    #backpropogation:\n",
    "    dz = a-Y\n",
    "    dw  = np.dot(np.transpose(X),dz)/m\n",
    "    db = np.sum(dz)/m\n",
    "    \n",
    "    grad = {\n",
    "        \"dw\":dw,\n",
    "        \"db\":db\n",
    "    }\n",
    "    return grad,cost"
   ]
  },
  {
   "cell_type": "code",
   "execution_count": 10,
   "metadata": {},
   "outputs": [],
   "source": [
    "#Gradient descent\n",
    "def optim(w,b,X,Y,learning_rate,num_iteration):\n",
    "    costs = []\n",
    "    \n",
    "    for i in range(num_iteration):\n",
    "        grads, cost=propo(w,b,X,Y)\n",
    "        \n",
    "        dw = grads[\"dw\"]\n",
    "        db = grads[\"db\"]\n",
    "        \n",
    "        #updating w and b\n",
    "        w  = w - learning_rate*dw\n",
    "        b  = b - learning_rate*db\n",
    "          \n",
    "        if(i%100==0):\n",
    "            costs.append(cost)\n",
    "        \n",
    "    params= {\n",
    "        \"w\":w,\n",
    "        \"b\":b\n",
    "    }\n",
    "    grads = {\n",
    "        \"dw\":dw,\n",
    "        \"db\":db\n",
    "    }\n",
    "    return params,grads,costs"
   ]
  },
  {
   "cell_type": "code",
   "execution_count": 11,
   "metadata": {},
   "outputs": [],
   "source": [
    "#random init of w,b\n",
    "w,b = random_init(train_X.shape[1])\n",
    "\n",
    "#forward, backward & grad. descent:\n",
    "params,grads,costs = optim(w,b,train_X,train_Y,0.01,2000)\n",
    "\n",
    "def predict(w,b,X):\n",
    "    a = sigmoid(np.dot(X,w) + b)\n",
    "    return a\n",
    "\n",
    "def oneORzero(x):\n",
    "    if(x>=0.5):\n",
    "        return 1\n",
    "    elif(x<0.5):\n",
    "        return 0"
   ]
  },
  {
   "cell_type": "code",
   "execution_count": 12,
   "metadata": {},
   "outputs": [
    {
     "name": "stdout",
     "output_type": "stream",
     "text": [
      "Test Accuracy =  92.36111111111111\n"
     ]
    }
   ],
   "source": [
    "# Accuracy\n",
    "temp = predict(params[\"w\"],params[\"b\"],test_X)\n",
    "test_prediction = np.array(list(map(oneORzero,temp)))\n",
    "test_prediction = test_prediction.reshape((test_prediction.shape[0],1))\n",
    "print(\"Test Accuracy = \",(100 - np.mean(np.abs(test_prediction - test_Y))*100))"
   ]
  }
 ],
 "metadata": {
  "kernelspec": {
   "display_name": "Python 3",
   "language": "python",
   "name": "python3"
  },
  "language_info": {
   "codemirror_mode": {
    "name": "ipython",
    "version": 3
   },
   "file_extension": ".py",
   "mimetype": "text/x-python",
   "name": "python",
   "nbconvert_exporter": "python",
   "pygments_lexer": "ipython3",
   "version": "3.7.3"
  }
 },
 "nbformat": 4,
 "nbformat_minor": 2
}
